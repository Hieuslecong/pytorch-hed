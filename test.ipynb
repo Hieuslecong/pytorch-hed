{
 "cells": [
  {
   "cell_type": "markdown",
   "metadata": {},
   "source": [
    "# Test Inference for HED Model\n",
    "---"
   ]
  },
  {
   "cell_type": "code",
   "execution_count": null,
   "metadata": {},
   "outputs": [],
   "source": [
    "# import torch libraries\n",
    "import torch\n",
    "from torch.autograd import Variable\n",
    "from torch.utils.data import Dataset, DataLoader\n",
    "\n",
    "import os\n",
    "import pylab\n",
    "import numpy as np\n",
    "import pandas as pd\n",
    "from PIL import Image\n",
    "import skimage.io as io\n",
    "import matplotlib.cm as cm\n",
    "import matplotlib.pyplot as plt\n",
    "\n",
    "# import the utility functions\n",
    "from model import HED\n",
    "from dataproc import TestDataset"
   ]
  },
  {
   "cell_type": "code",
   "execution_count": null,
   "metadata": {},
   "outputs": [],
   "source": [
    "# fix random seed\n",
    "rng = np.random.RandomState(37148)"
   ]
  },
  {
   "cell_type": "markdown",
   "metadata": {},
   "source": [
    "### Load Trained Model"
   ]
  },
  {
   "cell_type": "code",
   "execution_count": null,
   "metadata": {},
   "outputs": [],
   "source": [
    "# create instance of HED model\n",
    "net = HED()\n",
    "net.cuda()\n",
    "\n",
    "# load the weights for the model\n",
    "net.load_state_dict(torch.load('train/model.pth'))"
   ]
  },
  {
   "cell_type": "markdown",
   "metadata": {},
   "source": [
    "### Prepare Validation Dataset"
   ]
  },
  {
   "cell_type": "code",
   "execution_count": null,
   "metadata": {},
   "outputs": [],
   "source": [
    "# batch size\n",
    "nBatch = 1\n",
    "\n",
    "# load the images dataset\n",
    "dataRoot = '../HED-BSDS/'\n",
    "\n",
    "# create data loaders from dataset\n",
    "testPath = dataRoot+'test.lst'\n",
    "testDataset = TestDataset(testPath, dataRoot)\n",
    "testDataloader = DataLoader(testDataset, batch_size=nBatch)"
   ]
  },
  {
   "cell_type": "markdown",
   "metadata": {},
   "source": [
    "### Perform Test Inference"
   ]
  },
  {
   "cell_type": "code",
   "execution_count": null,
   "metadata": {},
   "outputs": [],
   "source": [
    "def grayTrans(img):\n",
    "    img = img.numpy()[0][0]*255.0\n",
    "    img = (img).astype(np.uint8)\n",
    "    return img"
   ]
  },
  {
   "cell_type": "code",
   "execution_count": null,
   "metadata": {},
   "outputs": [],
   "source": [
    "def plotResults(images, size):\n",
    "    pylab.rcParams['figure.figsize'] = size, size\n",
    "    \n",
    "    nPlots = len(images)\n",
    "    titles = ['HED', 'S1', 'S2', 'S3', 'S4']\n",
    "    plt.figure()\n",
    "    for i in range(0, len(images)):\n",
    "        s=plt.subplot(1,nPlots,i+1)\n",
    "        plt.imshow(images[i], cmap = cm.Greys_r)\n",
    "        s.set_xticklabels([])\n",
    "        s.set_yticklabels([])\n",
    "        s.yaxis.set_ticks_position('none')\n",
    "        s.xaxis.set_ticks_position('none')\n",
    "        s.set_title(titles[i],fontsize=35)\n",
    "    plt.tight_layout()\n",
    "    plt.show()"
   ]
  },
  {
   "cell_type": "code",
   "execution_count": null,
   "metadata": {},
   "outputs": [],
   "source": [
    "nVisualize = 10\n",
    "for i, sample in enumerate(testDataloader):\n",
    "    # get input sample image\n",
    "    inp, fname = sample\n",
    "    inp = Variable(inp.cuda())\n",
    "    \n",
    "    # perform forward computation\n",
    "    s1,s2,s3,s4,s5,s6 = net.forward(inp)\n",
    "    \n",
    "    # convert back to numpy arrays\n",
    "    out = []\n",
    "    out.append(grayTrans(s6.data.cpu()))\n",
    "    out.append(grayTrans(s1.data.cpu()))\n",
    "    out.append(grayTrans(s2.data.cpu()))\n",
    "    out.append(grayTrans(s3.data.cpu()))\n",
    "    out.append(grayTrans(s4.data.cpu()))\n",
    "\n",
    "    print(fname)\n",
    "    img = Image.fromarray(out[0], 'L')\n",
    "    img.save(fname[0].split('.',1)[0]+'.png')\n",
    "\n",
    "    # visualize every 10th image\n",
    "    if i%nVisualize == 0:\n",
    "        plotResults(out, 25)"
   ]
  }
 ],
 "metadata": {
  "kernelspec": {
   "display_name": "Python 3",
   "language": "python",
   "name": "python3"
  },
  "language_info": {
   "codemirror_mode": {
    "name": "ipython",
    "version": 3
   },
   "file_extension": ".py",
   "mimetype": "text/x-python",
   "name": "python",
   "nbconvert_exporter": "python",
   "pygments_lexer": "ipython3",
   "version": "3.6.3"
  }
 },
 "nbformat": 4,
 "nbformat_minor": 2
}
